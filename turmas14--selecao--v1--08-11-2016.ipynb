{
 "cells": [
  {
   "cell_type": "code",
   "execution_count": 8,
   "metadata": {
    "collapsed": false
   },
   "outputs": [],
   "source": [
    "setwd(\"C:/Users/Vini/Documents/TCC/Dados/Censo Escolar Educação Básica 2014/DADOS\")\n",
    "turmas14 <- read.table(\"TURMAS.csv\", sep=\"|\", header = T)"
   ]
  },
  {
   "cell_type": "markdown",
   "metadata": {},
   "source": [
    "### Selecionando casos de ensino regular\n",
    "Variável FK_COD_MOD_ENSINO tem de ser igual a um\n",
    "\n",
    "### Selecionando casos de ensino médio\n",
    "Variável deve ir do FK_COD_ETAPA_ENSINO_25 ao FK_COD_ETAPA_ENSINO_39 & FK_COD_ETAPA_ENSINO_64"
   ]
  },
  {
   "cell_type": "code",
   "execution_count": 9,
   "metadata": {
    "collapsed": true
   },
   "outputs": [],
   "source": [
    "turmas14 <- subset(turmas14, FK_COD_MOD_ENSINO==1)"
   ]
  },
  {
   "cell_type": "code",
   "execution_count": 10,
   "metadata": {
    "collapsed": true
   },
   "outputs": [],
   "source": [
    "turmas14 <- subset(turmas14, FK_COD_ETAPA_ENSINO >= 25 & FK_COD_ETAPA_ENSINO <= 39 | FK_COD_ETAPA_ENSINO == 64)"
   ]
  },
  {
   "cell_type": "markdown",
   "metadata": {},
   "source": [
    "### Selecionando variáveis"
   ]
  },
  {
   "cell_type": "code",
   "execution_count": 14,
   "metadata": {
    "collapsed": false,
    "scrolled": false
   },
   "outputs": [],
   "source": [
    "tc <- c(\"NU_DURACAO_TURMA\", \"NUM_MATRICULAS\", \"ID_QUIMICA\", \"ID_FISICA\", \"ID_MATEMATICA\",\n",
    "       \"ID_BIOLOGIA\", \"ID_LINGUA_LITERAT_PORTUGUESA\", \"ID_LINGUA_LITERAT_INGLES\", \"ID_LINGUA_LITERAT_ESPANHOL\",\n",
    "       \"ID_LINGUA_LITERAT_FRANCES\", \"ID_LINGUA_LITERAT_OUTRA\", \"ID_LINGUA_LITERAT_INDIGENA\", \"ID_ARTES\",                      \n",
    "       \"ID_EDUCACAO_FISICA\", \"ID_HISTORIA\", \"ID_GEOGRAFIA\", \"ID_FILOSOFIA\",                  \n",
    "       \"ID_ENSINO_RELIGIOSO\", \"ID_SOCIOLOGIA\", \"ID_INFORMATICA_COMPUTACAO\", \"ID_DISCIPLINAS_PEDAG\", \"COD_MUNICIPIO\")\n",
    "tc <- as.factor(tc)\n",
    "turmas14 <- turmas14[tc]"
   ]
  },
  {
   "cell_type": "code",
   "execution_count": 16,
   "metadata": {
    "collapsed": false
   },
   "outputs": [
    {
     "ename": "ERROR",
     "evalue": "Error in setwd(\"C:/Users/Vini/Documents/Working\"): não é possível mudar o diretório de trabalho\n",
     "output_type": "error",
     "traceback": [
      "Error in setwd(\"C:/Users/Vini/Documents/Working\"): não é possível mudar o diretório de trabalho\nTraceback:\n",
      "1. setwd(\"C:/Users/Vini/Documents/Working\")"
     ]
    }
   ],
   "source": [
    "setwd(\"C:/Users/Vini/Documents/Working\")\n",
    "write.csv2(turmas14, \"turmas14--limpo--08-11-2016.csv\")"
   ]
  },
  {
   "cell_type": "code",
   "execution_count": null,
   "metadata": {
    "collapsed": true
   },
   "outputs": [],
   "source": []
  }
 ],
 "metadata": {
  "anaconda-cloud": {},
  "kernelspec": {
   "display_name": "R",
   "language": "R",
   "name": "ir"
  },
  "language_info": {
   "codemirror_mode": "r",
   "file_extension": ".r",
   "mimetype": "text/x-r-source",
   "name": "R",
   "pygments_lexer": "r",
   "version": "3.3.0"
  }
 },
 "nbformat": 4,
 "nbformat_minor": 1
}
