{
 "cells": [
  {
   "cell_type": "code",
   "execution_count": 9,
   "metadata": {
    "collapsed": false
   },
   "outputs": [],
   "source": [
    "setwd(\"C:/Users/Vini/Documents/TCC/Dados/Censo Escolar Educação Básica 2014/DADOS\")\n",
    "turmas14 <- read.table(\"TURMAS.csv\", sep=\"|\", header = T)"
   ]
  },
  {
   "cell_type": "markdown",
   "metadata": {},
   "source": [
    "### Selecionando casos de ensino regular\n",
    "Variável FK_COD_MOD_ENSINO tem de ser igual a um\n",
    "\n",
    "### Selecionando casos de ensino médio\n",
    "Variável deve ir do FK_COD_ETAPA_ENSINO_25 ao FK_COD_ETAPA_ENSINO_39 & FK_COD_ETAPA_ENSINO_64"
   ]
  },
  {
   "cell_type": "code",
   "execution_count": 10,
   "metadata": {
    "collapsed": true
   },
   "outputs": [],
   "source": [
    "turmas14 <- subset(turmas14, FK_COD_MOD_ENSINO==1)"
   ]
  },
  {
   "cell_type": "code",
   "execution_count": 11,
   "metadata": {
    "collapsed": true
   },
   "outputs": [],
   "source": [
    "turmas14 <- subset(turmas14, FK_COD_ETAPA_ENSINO >= 25 & FK_COD_ETAPA_ENSINO <= 39 | FK_COD_ETAPA_ENSINO == 64)"
   ]
  },
  {
   "cell_type": "markdown",
   "metadata": {},
   "source": [
    "### Selecionando variáveis"
   ]
  },
  {
   "cell_type": "code",
   "execution_count": 12,
   "metadata": {
    "collapsed": false,
    "scrolled": false
   },
   "outputs": [],
   "source": [
    "tc <- c(\"FK_COD_MUNICIPIO\", \"ID_DEPENDENCIA_ADM\", \"NU_DURACAO_TURMA\", \"NUM_MATRICULAS\", \"ID_QUIMICA\", \"ID_FISICA\", \"ID_MATEMATICA\",\n",
    "        \"ID_BIOLOGIA\", \"ID_LINGUA_LITERAT_PORTUGUESA\", \"ID_LINGUA_LITERAT_INGLES\", \"ID_LINGUA_LITERAT_ESPANHOL\",\n",
    "        \"ID_LINGUA_LITERAT_FRANCES\", \"ID_LINGUA_LITERAT_OUTRA\", \"ID_LINGUA_LITERAT_INDIGENA\", \"ID_ARTES\",                      \n",
    "        \"ID_EDUCACAO_FISICA\", \"ID_HISTORIA\", \"ID_GEOGRAFIA\", \"ID_FILOSOFIA\",                  \n",
    "        \"ID_ENSINO_RELIGIOSO\", \"ID_SOCIOLOGIA\", \"ID_INFORMATICA_COMPUTACAO\", \"ID_DISCIPLINAS_PEDAG\")\n",
    "turmas14 <- turmas14[tc]"
   ]
  },
  {
   "cell_type": "code",
   "execution_count": null,
   "metadata": {
    "collapsed": true
   },
   "outputs": [],
   "source": []
  },
  {
   "cell_type": "code",
   "execution_count": 13,
   "metadata": {
    "collapsed": false,
    "scrolled": false
   },
   "outputs": [],
   "source": [
    "setwd(\"C:/Users/Vini/Documents/TCC/Working/Nov2016\")\n",
    "write.csv2(turmas14, \"turmas14--limpo--v2.1--11-11-2016.csv\")"
   ]
  },
  {
   "cell_type": "code",
   "execution_count": 14,
   "metadata": {
    "collapsed": false,
    "scrolled": true
   },
   "outputs": [],
   "source": [
    "turmas14Federal <- subset(turmas14, ID_DEPENDENCIA_ADM==1)\n",
    "turmas14Estadual <- subset(turmas14, ID_DEPENDENCIA_ADM==2)\n",
    "turmas14Municipal <- subset(turmas14, ID_DEPENDENCIA_ADM==3)\n",
    "turmas14Particular <- subset(turmas14, ID_DEPENDENCIA_ADM==4)\n",
    "turmas14Publica <- subset(turmas14, ID_DEPENDENCIA_ADM!=4)\n",
    "write.csv2(turmas14Federal, \"turmas14Federal--v1.1--11-11-2016.csv\")\n",
    "write.csv2(turmas14Estadual, \"turmas14Estadual--v1.1--11-11-2016.csv\")\n",
    "write.csv2(turmas14Municipal, \"turmas14Municipal--v1.1--11-11-2016.csv\")\n",
    "write.csv2(turmas14Particular, \"turmas14Particular--v1.1--11-11-2016.csv\")\n",
    "write.csv2(turmas14Publica, \"turmas14Publica--v1.1--11-11-2016.csv\")"
   ]
  },
  {
   "cell_type": "code",
   "execution_count": null,
   "metadata": {
    "collapsed": true
   },
   "outputs": [],
   "source": []
  }
 ],
 "metadata": {
  "anaconda-cloud": {},
  "kernelspec": {
   "display_name": "R",
   "language": "R",
   "name": "ir"
  },
  "language_info": {
   "codemirror_mode": "r",
   "file_extension": ".r",
   "mimetype": "text/x-r-source",
   "name": "R",
   "pygments_lexer": "r",
   "version": "3.3.0"
  }
 },
 "nbformat": 4,
 "nbformat_minor": 1
}
