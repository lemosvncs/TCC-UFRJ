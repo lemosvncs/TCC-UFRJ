{
 "cells": [
  {
   "cell_type": "markdown",
   "metadata": {},
   "source": [
    "### ENEM: Escolhendo variáveis\n",
    "Devido ao tamanho grande do arquivo (=~ 7GBs), variáveis são selecionadas na leitura"
   ]
  },
  {
   "cell_type": "code",
   "execution_count": 1,
   "metadata": {
    "collapsed": true
   },
   "outputs": [],
   "source": [
    "setwd(\"~/TCC/Dados/ENEM 2014/DADOS\")\n",
    "varEnem14 <- c(\"NULL\",\"NULL\",NA,\"NULL\",NA,NA,\"NULL\",\"NULL\",\"NULL\",\"NULL\",\"NULL\",\"NULL\",NA,\"NULL\",\"NULL\",NA,NA,NA,\"NULL\",\"NULL\",\"NULL\",\"NULL\",NA,\"NULL\",\"NULL\",\"NULL\",NA,NA,\"NULL\",\"NULL\",\"NULL\",\"NULL\",\"NULL\",\"NULL\",\"NULL\",\"NULL\",\"NULL\",\"NULL\",\"NULL\",\"NULL\",\"NULL\",\"NULL\",\"NULL\",\"NULL\",\"NULL\",\"NULL\",\"NULL\",\"NULL\",\"NULL\",\"NULL\",\"NULL\",\"NULL\",\"NULL\",\"NULL\",\"NULL\",\"NULL\",\"NULL\",\"NULL\",NA,\"NULL\",\"NULL\",\"NULL\",NA,NA,NA,NA,\"NULL\",\"NULL\",\"NULL\",\"NULL\",NA,NA,NA,NA,\"NULL\",\"NULL\",\"NULL\",\"NULL\",NA,\"NULL\",\"NULL\",\"NULL\",\"NULL\",NA,\"NULL\",\"NULL\",\"NULL\",\"NULL\",\"NULL\",NA,\"NULL\",\"NULL\",\"NULL\",\"NULL\",\"NULL\",\"NULL\",\"NULL\",\"NULL\",\"NULL\",\"NULL\",\"NULL\",\"NULL\",\"NULL\",\"NULL\",\"NULL\",\"NULL\",\"NULL\",\"NULL\",\"NULL\",\"NULL\",\"NULL\",\"NULL\",\"NULL\",\"NULL\",\"NULL\",\"NULL\",\"NULL\",\"NULL\",\"NULL\",\"NULL\",\"NULL\",\"NULL\",\"NULL\",\"NULL\", \"NULL\",\"NULL\",\"NULL\",\"NULL\",\"NULL\",\"NULL\",\"NULL\",\"NULL\",\"NULL\",\"NULL\",\"NULL\",\"NULL\",\"NULL\",\"NULL\",\"NULL\",\"NULL\",\"NULL\",\"NULL\",\"NULL\",\"NULL\",\"NULL\",\"NULL\",\"NULL\",\"NULL\",\"NULL\",\"NULL\",\"NULL\",\"NULL\",\"NULL\",\"NULL\",\"NULL\",\"NULL\",\"NULL\",\"NULL\",\"NULL\",\"NULL\",\"NULL\",\"NULL\",\"NULL\",\"NULL\",\"NULL\",\"NULL\")\n",
    "enem14 <- read.table(\"MICRODADOS_ENEM_2014.csv\", header = T, sep=\",\", colClasses = varEnem14)"
   ]
  },
  {
   "cell_type": "code",
   "execution_count": 2,
   "metadata": {
    "collapsed": false
   },
   "outputs": [],
   "source": [
    "enem14 <- subset(enem14, ST_CONCLUSAO==1 | ST_CONCLUSAO==2) #Concluiu o Ensino Médio ou irá concluir em 2014\n",
    "enem14 <- subset(enem14, IN_PRESENCA_CN==1 & IN_PRESENCA_CH==1 & IN_PRESENCA_LC==1 & IN_PRESENCA_MT==1)\n",
    "enem14 <- subset(enem14, IN_STATUS_REDACAO==7)"
   ]
  },
  {
   "cell_type": "markdown",
   "metadata": {},
   "source": [
    "#### Tirando as variáveis utilizadas acima"
   ]
  },
  {
   "cell_type": "code",
   "execution_count": 3,
   "metadata": {
    "collapsed": true
   },
   "outputs": [],
   "source": [
    "enem14$ST_CONCLUSAO <- NULL\n",
    "enem14$IN_PRESENCA_CN <- NULL\n",
    "enem14$IN_PRESENCA_CH <- NULL\n",
    "enem14$IN_PRESENCA_LC <- NULL\n",
    "enem14$IN_PRESENCA_MT <- NULL\n",
    "enem14$IN_STATUS_REDACAO <- NULL"
   ]
  },
  {
   "cell_type": "code",
   "execution_count": 4,
   "metadata": {
    "collapsed": false
   },
   "outputs": [],
   "source": [
    "enem14Federal <- subset(enem14, ID_DEPENDENCIA_ADM_ESC==1)\n",
    "enem14Estadual <- subset(enem14, ID_DEPENDENCIA_ADM_ESC==2)\n",
    "enem14Municipal <- subset(enem14, ID_DEPENDENCIA_ADM_ESC==3)\n",
    "enem14Privada <- subset(enem14, ID_DEPENDENCIA_ADM_ESC==4)\n",
    "enem14Publica <- subset(enem14, ID_DEPENDENCIA_ADM_ESC!=4)\n",
    "write.csv2(enem14Federal, \"enem14Federal--v2--10-11-2016.csv\")\n",
    "write.csv2(enem14Estadual, \"enem14Estadual--v2--10-11-2016.csv\")\n",
    "write.csv2(enem14Municipal, \"enem14Municipal--v2--10-11-2016.csv\")\n",
    "write.csv2(enem14Privada, \"enem14Privada--v2--10-11-2016.csv\")\n",
    "write.csv2(enem14Publica, \"enem14Publica--v2--10-11-2016.csv\")\n",
    "write.csv2(enem14, \"enem14--v2--10-11-2016.csv\")"
   ]
  },
  {
   "cell_type": "code",
   "execution_count": null,
   "metadata": {
    "collapsed": true
   },
   "outputs": [],
   "source": []
  }
 ],
 "metadata": {
  "anaconda-cloud": {},
  "kernelspec": {
   "display_name": "R",
   "language": "R",
   "name": "ir"
  },
  "language_info": {
   "codemirror_mode": "r",
   "file_extension": ".r",
   "mimetype": "text/x-r-source",
   "name": "R",
   "pygments_lexer": "r",
   "version": "3.3.0"
  }
 },
 "nbformat": 4,
 "nbformat_minor": 1
}
